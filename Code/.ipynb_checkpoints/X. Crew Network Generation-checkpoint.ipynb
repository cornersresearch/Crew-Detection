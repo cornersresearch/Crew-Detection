{
 "cells": [
  {
   "cell_type": "code",
   "execution_count": 1,
   "metadata": {},
   "outputs": [],
   "source": [
    "import pandas as pd\n",
    "import numpy as np\n",
    "import networkx as nx"
   ]
  },
  {
   "cell_type": "code",
   "execution_count": 28,
   "metadata": {},
   "outputs": [
    {
     "name": "stderr",
     "output_type": "stream",
     "text": [
      "/Users/akshayjain/opt/anaconda3/lib/python3.7/site-packages/IPython/core/interactiveshell.py:3063: DtypeWarning: Columns (7) have mixed types.Specify dtype option on import or set low_memory=False.\n",
      "  interactivity=interactivity, compiler=compiler, result=result)\n"
     ]
    }
   ],
   "source": [
    "offAssignments = pd.read_csv(\"../Datasets/Officer_Community_Assignments.csv\")\n",
    "crewAssignments = pd.read_csv(\"../Datasets/AttributesByCommunity.csv\")\n",
    "\n",
    "crews = list(crewAssignments[crewAssignments['DetectedCrew']==\"Yes\"]['Community_ID'])\n",
    "offAssignments= offAssignments[offAssignments['Community_ID']!=\"None\"]\n",
    "offAssignments['Community_ID']=pd.to_numeric(offAssignments['Community_ID']).astype(int)\n",
    "crewOfficers= offAssignments[offAssignments['Community_ID'].isin(crews)]\n",
    "crewNodes = [str(x) for x in list(crewOfficers['UID'])]"
   ]
  },
  {
   "cell_type": "code",
   "execution_count": 33,
   "metadata": {},
   "outputs": [],
   "source": [
    "g = nx.read_gexf(\"../Networks/All_CPD_Network_NewEdgeWeights.gexf\")\n",
    "S = nx.subgraph(g, crewNodes)"
   ]
  },
  {
   "cell_type": "code",
   "execution_count": 63,
   "metadata": {},
   "outputs": [],
   "source": [
    "uids = [str(x) for x in offAssignments['UID']]\n",
    "comms = [str(x) for x in offAssignments['Community_ID']]\n",
    "dictionary = dict(zip(uids, comms))\n",
    "nx.set_node_attributes(S, dictionary, \"Community\")\n",
    "nx.write_gexf(S, \"../Networks/CrewMembersOnly.gexf\")"
   ]
  }
 ],
 "metadata": {
  "kernelspec": {
   "display_name": "Python 3",
   "language": "python",
   "name": "python3"
  },
  "language_info": {
   "codemirror_mode": {
    "name": "ipython",
    "version": 3
   },
   "file_extension": ".py",
   "mimetype": "text/x-python",
   "name": "python",
   "nbconvert_exporter": "python",
   "pygments_lexer": "ipython3",
   "version": "3.7.6"
  }
 },
 "nbformat": 4,
 "nbformat_minor": 4
}
