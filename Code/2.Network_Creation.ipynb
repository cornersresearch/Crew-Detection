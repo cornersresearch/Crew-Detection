{
 "cells": [
  {
   "cell_type": "code",
   "execution_count": 1,
   "metadata": {
    "pycharm": {
     "is_executing": false
    }
   },
   "outputs": [],
   "source": [
    "import pandas as pd\n",
    "import numpy as np\n",
    "import networkx as nx\n",
    "from itertools import combinations\n",
    "import os\n",
    "import seaborn as sns\n",
    "import statistics as stat\n",
    "import community\n",
    "from collections import Counter"
   ]
  },
  {
   "cell_type": "code",
   "execution_count": 2,
   "metadata": {},
   "outputs": [
    {
     "name": "stdout",
     "output_type": "stream",
     "text": [
      " 100.00% complete  \n",
      "Name: \n",
      "Type: Graph\n",
      "Number of nodes: 19524\n",
      "Number of edges: 218603\n",
      "Average degree:  22.3933\n",
      "Name: \n",
      "Type: Graph\n",
      "Number of nodes: 11227\n",
      "Number of edges: 26331\n",
      "Average degree:   4.6907\n"
     ]
    }
   ],
   "source": [
    "#THIS IS THE NETWORK CREATION STAGE. IT IMPORTS THE DATASET AND GENERATES \"g\" WHICH IS THE NETWORK.\n",
    "df = pd.read_csv('../Datasets/Complaints_MoreThanOneComplaint.csv')\n",
    "#At this point we have imported complaints.\n",
    "\n",
    "d0 = df.groupby('CRID').count()\n",
    "# counts the number of appearances per CRID\n",
    "\n",
    "d1 = d0[d0.UID > 1]\n",
    "# subsets the dataframe for all CRIDS that have more than one officer\n",
    "\n",
    "group_complaints = list(set(d1.index))\n",
    "# deduplicates the list\n",
    "\n",
    "df_perCRID = pd.read_csv(\"../Datasets/OfficersPerComplaint.csv\")\n",
    "dict_PerComplaint = dict(zip(df_perCRID.CRID, df_perCRID.no_of_officers))\n",
    "\n",
    "g = nx.Graph()\n",
    "for incident in group_complaints:\n",
    "    numberPer = dict_PerComplaint.get(incident)\n",
    "    node_pairs = list(combinations(df[df.CRID == incident]['UID'].tolist(), 2))\n",
    "    for node_pair in node_pairs:\n",
    "        if g.has_edge(node_pair[0], node_pair[1]):\n",
    "            g[node_pair[0]][node_pair[1]]['weight'] += (1+1/numberPer)\n",
    "        else:\n",
    "            g.add_edge(node_pair[0], node_pair[1], weight = (1+1/numberPer))\n",
    "    if group_complaints.index(incident)%100==0:\n",
    "        value = str(group_complaints.index(incident)/len(group_complaints)*100)[:5] +  \"% complete \"\n",
    "        print (\"\\r \", value, end = \" \\r \"),\n",
    "print(\"\\r 100.00% complete\")\n",
    "\n",
    "print(nx.info(g))\n",
    "\n",
    "#Write the network to a file. \n",
    "nx.write_gexf(g, \"../Networks/All_CPD_Network_NewEdgeWeights.gexf\")\n",
    "nx.write_gml(g, \"../Networks/All_CPD_Network_NewEdgeWeights.gml\")\n",
    "\n",
    "#This removes all edges that have a weight below 2. Then isolates are removed. \n",
    "edgeList = list(g.edges)\n",
    "toRemove = [nodes for nodes in edgeList if g[nodes[0]][nodes[1]]['weight'] <2]\n",
    "g.remove_edges_from(toRemove)\n",
    "g.remove_nodes_from(list(nx.isolates(g)))\n",
    "nx.write_gexf(g, \"../Networks/All_CPD_Network_NewEdgeWeights_NoEdgesBelow2.gexf\")\n",
    "nx.write_gml(g, \"../Networks/All_CPD_Network_NewEdgeWeights_NoEdgesBelow2.gml\")\n",
    "\n",
    "print(nx.info(g))"
   ]
  },
  {
   "cell_type": "code",
   "execution_count": null,
   "metadata": {},
   "outputs": [],
   "source": [
    "#Need to export a csv with node, degree and weighted degree.\n",
    "def getWeightedDegree(UID):\n",
    "    return [d for x,d in list(g.degree([UID], weight = \"weight\"))][0]\n",
    "def getDegree(UID):\n",
    "    return [d for x,d in list(g.degree([UID]))][0]\n",
    "\n",
    "df = pd.DataFrame()\n",
    "df['UID'] = list(g.nodes)\n",
    "df['Degree'] = df.apply(lambda row: getDegree(row['UID']), axis=1)\n",
    "df['Weighted.Degree'] = df.apply(lambda row: getWeightedDegree(row['UID']), axis=1)\n",
    "df.to_csv('../Datasets/NodeDegrees.csv')"
   ]
  }
 ],
 "metadata": {
  "kernelspec": {
   "display_name": "Python 3",
   "language": "python",
   "name": "python3"
  },
  "language_info": {
   "codemirror_mode": {
    "name": "ipython",
    "version": 3
   },
   "file_extension": ".py",
   "mimetype": "text/x-python",
   "name": "python",
   "nbconvert_exporter": "python",
   "pygments_lexer": "ipython3",
   "version": "3.7.6"
  }
 },
 "nbformat": 4,
 "nbformat_minor": 2
}
